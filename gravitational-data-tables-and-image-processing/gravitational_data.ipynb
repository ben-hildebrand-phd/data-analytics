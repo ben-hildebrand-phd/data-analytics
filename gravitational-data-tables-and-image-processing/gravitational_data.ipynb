{
 "cells": [
  {
   "cell_type": "markdown",
   "id": "deeb01b4-7e82-459a-9a5c-417ba6deeae6",
   "metadata": {},
   "source": [
    "# Import Libraries"
   ]
  },
  {
   "cell_type": "code",
   "execution_count": 1,
   "id": "db8db8c1-da69-426c-948f-809e48a614c5",
   "metadata": {},
   "outputs": [],
   "source": [
    "import os\n",
    "from pdf2image import convert_from_path\n",
    "from PIL import Image, ImageEnhance"
   ]
  },
  {
   "cell_type": "markdown",
   "id": "dc328614-5928-4e1f-a1f0-28f02ad8878a",
   "metadata": {},
   "source": [
    "# Convert PDF Pages to Images"
   ]
  },
  {
   "cell_type": "code",
   "execution_count": 2,
   "id": "225e8245-3f25-4549-8241-62e3de5aa54e",
   "metadata": {},
   "outputs": [],
   "source": [
    "# Input PDF file\n",
    "pdf_path = \"ARH-C-00008-Regionalgravity-Hanford-1975-7187575.pdf\"\n",
    "\n",
    "# Output directory for images\n",
    "output_dir = \"ARH-C-00008_pdf_pages\"\n",
    "os.makedirs(output_dir, exist_ok=True)\n",
    "\n",
    "# Convert PDF to list of PIL Image objects\n",
    "pages = convert_from_path(pdf_path, dpi=150)\n",
    "\n",
    "# Save each page as a separate image\n",
    "for i, page in enumerate(pages, start=1):\n",
    "    if i < 10:\n",
    "        image_path = os.path.join(output_dir, f\"ARH-C-00008_page_0{i}.png\")\n",
    "    else:\n",
    "        image_path = os.path.join(output_dir, f\"ARH-C-00008_page_{i}.png\")\n",
    "    page.save(image_path, \"PNG\")"
   ]
  },
  {
   "cell_type": "code",
   "execution_count": 3,
   "id": "9ac4ea60-9d53-4ed6-b2cc-25038a8f29cc",
   "metadata": {},
   "outputs": [],
   "source": [
    "# Input PDF file\n",
    "pdf_path = \"RHO-BWI-C-5.pdf\"\n",
    "\n",
    "# Output directory for images\n",
    "output_dir = \"RHO-BWI-C-5_pdf_pages\"\n",
    "os.makedirs(output_dir, exist_ok=True)\n",
    "\n",
    "# Convert PDF to list of PIL Image objects\n",
    "pages = convert_from_path(pdf_path, dpi=300)\n",
    "\n",
    "# Save each page as a separate image\n",
    "for i, page in enumerate(pages, start=1):\n",
    "    if i < 10:\n",
    "        image_path = os.path.join(output_dir, f\"RHO-BWI-C-5_page_0{i}.png\")\n",
    "    else:\n",
    "        image_path = os.path.join(output_dir, f\"RHO-BWI-C-5_page_{i}.png\")\n",
    "    page.save(image_path, \"PNG\")"
   ]
  },
  {
   "cell_type": "markdown",
   "id": "4001b79f-68f4-4e95-9504-0082ba794346",
   "metadata": {},
   "source": [
    "# Convert All Images to Higher Contrast"
   ]
  },
  {
   "cell_type": "code",
   "execution_count": 4,
   "id": "4b7b98a9-4db8-4d6b-92ca-c142c8b0820a",
   "metadata": {},
   "outputs": [],
   "source": [
    "# Input/output directories\n",
    "input_dir = \"ARH-C-00008_pdf_pages\"\n",
    "output_dir = \"ARH-C-00008_pdf_pages_highcontrast\"\n",
    "os.makedirs(output_dir, exist_ok=True)\n",
    "\n",
    "# Contrast factor (>1 = more contrast, <1 = less)\n",
    "contrast_factor = 1.5\n",
    "\n",
    "# Loop through all PNG images in the input directory\n",
    "for filename in os.listdir(input_dir):\n",
    "    if filename.lower().endswith(\".png\"):  # only process PNG files\n",
    "        input_path = os.path.join(input_dir, filename)\n",
    "        output_path = os.path.join(output_dir, filename)\n",
    "\n",
    "        # Open image\n",
    "        img = Image.open(input_path)\n",
    "\n",
    "        # Enhance contrast\n",
    "        enhancer = ImageEnhance.Contrast(img)\n",
    "        img_contrasted = enhancer.enhance(contrast_factor)\n",
    "\n",
    "        # Save to output directory\n",
    "        img_contrasted.save(output_path)\n",
    "        # print(f\"Saved high-contrast image: {output_path}\")\n"
   ]
  },
  {
   "cell_type": "code",
   "execution_count": null,
   "id": "3ce8f0b2-176b-40b8-bad6-32f8906bc1ef",
   "metadata": {},
   "outputs": [],
   "source": [
    "# Input/output directories\n",
    "input_dir = \"RHO-BWI-C-5_pdf_pages\"\n",
    "output_dir = \"RHO-BWI-C-5_pdf_pages_highcontrast\"\n",
    "os.makedirs(output_dir, exist_ok=True)\n",
    "\n",
    "# Contrast factor (>1 = more contrast, <1 = less)\n",
    "contrast_factor = 3.0\n",
    "\n",
    "# Loop through all PNG images in the input directory\n",
    "for filename in os.listdir(input_dir):\n",
    "    if filename.lower().endswith(\".png\"):  # only process PNG files\n",
    "        input_path = os.path.join(input_dir, filename)\n",
    "        output_path = os.path.join(output_dir, filename)\n",
    "\n",
    "        # Open image\n",
    "        img = Image.open(input_path)\n",
    "\n",
    "        # Enhance contrast\n",
    "        enhancer = ImageEnhance.Contrast(img)\n",
    "        img_contrasted = enhancer.enhance(contrast_factor)\n",
    "\n",
    "        # Save to output directory\n",
    "        img_contrasted.save(output_path)\n",
    "        # print(f\"Saved high-contrast image: {output_path}\")"
   ]
  },
  {
   "cell_type": "code",
   "execution_count": null,
   "id": "b2eb7fd9-60df-4b35-a141-60520a85e3ff",
   "metadata": {},
   "outputs": [],
   "source": []
  }
 ],
 "metadata": {
  "kernelspec": {
   "display_name": "Python 3 (ipykernel)",
   "language": "python",
   "name": "python3"
  },
  "language_info": {
   "codemirror_mode": {
    "name": "ipython",
    "version": 3
   },
   "file_extension": ".py",
   "mimetype": "text/x-python",
   "name": "python",
   "nbconvert_exporter": "python",
   "pygments_lexer": "ipython3",
   "version": "3.12.7"
  }
 },
 "nbformat": 4,
 "nbformat_minor": 5
}
